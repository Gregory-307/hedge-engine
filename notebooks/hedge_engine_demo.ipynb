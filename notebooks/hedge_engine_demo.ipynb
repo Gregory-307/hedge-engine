{
 "cells": [
  {
   "cell_type": "markdown",
   "id": "184705f0",
   "metadata": {},
   "source": [
    "# Hedge-Engine Interactive Demo\n",
    "\n",
    "This notebook-script demonstrates how to interact with Hedge-Engine via HTTP\n",
    "and via the local Python API.  It is compatible with **Jupytext**, so you can\n",
    "open it as a classic `.ipynb` notebook in Colab or JupyterLab while keeping a\n",
    "lightweight diff-friendly `.py` representation in Git.\n",
    "\n",
    "> Tip: run the stack with `docker compose up` first, or point `API_URL` to a\n",
    "> running deployment."
   ]
  },
  {
   "cell_type": "code",
   "execution_count": null,
   "id": "41039cc7",
   "metadata": {},
   "outputs": [],
   "source": [
    "import os\n",
    "import requests\n",
    "from pprint import pprint\n",
    "\n",
    "API_URL = os.getenv(\"API_URL\", \"http://localhost:8000\")\n",
    "print(\"API base →\", API_URL)\n",
    "\n",
    "# Health check\n",
    "pprint(requests.get(f\"{API_URL}/healthz\").json())"
   ]
  },
  {
   "cell_type": "markdown",
   "id": "028762ab",
   "metadata": {},
   "source": [
    "## Hedge sizing request"
   ]
  },
  {
   "cell_type": "code",
   "execution_count": null,
   "id": "bdf3f645",
   "metadata": {},
   "outputs": [],
   "source": [
    "payload = {\"asset\": \"BTC\", \"amount_usd\": 100_000, \"override_score\": 0.7}\n",
    "resp = requests.post(f\"{API_URL}/hedge\", json=payload)\n",
    "pprint(resp.json())"
   ]
  },
  {
   "cell_type": "markdown",
   "id": "4cd9827e",
   "metadata": {},
   "source": [
    "## Prometheus metrics"
   ]
  },
  {
   "cell_type": "code",
   "execution_count": null,
   "id": "c7926f0f",
   "metadata": {},
   "outputs": [],
   "source": [
    "metrics_text = requests.get(f\"{API_URL}/metrics\").text\n",
    "print(\"First 20 lines of /metrics:\\n\")\n",
    "print(\"\\n\".join(metrics_text.splitlines()[:20]))"
   ]
  },
  {
   "cell_type": "markdown",
   "id": "a8ca1eb9",
   "metadata": {},
   "source": [
    "## Direct library usage"
   ]
  },
  {
   "cell_type": "code",
   "execution_count": null,
   "id": "76075c80",
   "metadata": {},
   "outputs": [],
   "source": [
    "from hedge_engine.sizer import compute_hedge\n",
    "\n",
    "compute_hedge(0.7, depth1pct_usd=5_000_000) "
   ]
  }
 ],
 "metadata": {
  "jupytext": {
   "notebook_metadata_filter": "jupytext_format_version"
  },
  "kernelspec": {
   "display_name": "Python 3",
   "language": "python",
   "name": "python3"
  }
 },
 "nbformat": 4,
 "nbformat_minor": 5
}
